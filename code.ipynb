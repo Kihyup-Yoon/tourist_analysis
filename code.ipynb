{
 "metadata": {
  "language_info": {
   "codemirror_mode": {
    "name": "ipython",
    "version": 3
   },
   "file_extension": ".py",
   "mimetype": "text/x-python",
   "name": "python",
   "nbconvert_exporter": "python",
   "pygments_lexer": "ipython3",
   "version": "3.8.5-final"
  },
  "orig_nbformat": 2,
  "kernelspec": {
   "name": "Python 3.8.5 32-bit",
   "display_name": "Python 3.8.5 32-bit",
   "metadata": {
    "interpreter": {
     "hash": "13cd12c58a1057b1b119da7e0760c0ebd119366c0a5b3b0c0b44d9dc42b91c96"
    }
   }
  }
 },
 "nbformat": 4,
 "nbformat_minor": 2,
 "cells": [
  {
   "cell_type": "code",
   "execution_count": 32,
   "metadata": {},
   "outputs": [],
   "source": [
    "from selenium import webdriver\n",
    "import time\n",
    "import os"
   ]
  },
  {
   "cell_type": "code",
   "execution_count": 2,
   "metadata": {},
   "outputs": [],
   "source": [
    "url = 'http://kto.visitkorea.or.kr/kor/notice/data/statis/profit/notice/inout/popup.kto'"
   ]
  },
  {
   "cell_type": "code",
   "execution_count": 7,
   "metadata": {},
   "outputs": [],
   "source": [
    "driver = webdriver.Chrome(\"./chromedriver.exe\")\n",
    "driver.get(url)"
   ]
  },
  {
   "cell_type": "code",
   "execution_count": 31,
   "metadata": {},
   "outputs": [],
   "source": [
    "category = driver.find_element_by_xpath('//*[@id=\"gubun_2\"]')\n",
    "category.click()\n",
    "purpose = driver.find_element_by_xpath('//*[@id=\"gubun_2\"]/option[2]')\n",
    "purpose.click()\n",
    "monthly = driver.find_element_by_xpath('//*[@id=\"mothRadio01\"]')\n",
    "monthly.click()\n",
    "for i in range(8):\n",
    "    driver.find_element_by_xpath('//*[@id=\"yyyy\"]').click()\n",
    "    year = driver.find_element_by_css_selector('#yyyy > option:nth-child({})'.format(str(i+1)))\n",
    "    year.click()\n",
    "    for i in range(12):\n",
    "        driver.find_element_by_xpath('//*[@id=\"mm\"]').click()\n",
    "        month = driver.find_element_by_css_selector('#mm > option:nth-child({})'.format(str(i+1)))\n",
    "        month.click()\n",
    "        search = driver.find_element_by_xpath('//*[@id=\"popContents\"]/form[1]/fieldset/div/div[2]/a/img')\n",
    "        search.click()\n",
    "        time.sleep(5)\n",
    "\n",
    "\n"
   ]
  },
  {
   "cell_type": "code",
   "execution_count": 36,
   "metadata": {},
   "outputs": [
    {
     "output_type": "error",
     "ename": "OSError",
     "evalue": "[WinError 123] The filename, directory name, or volume label syntax is incorrect: 'file C:/Users/kihyu/Downloads/file.xls' -> 'file C:/Users/kihyu/Downloads/kto_01/2020.xls'",
     "traceback": [
      "\u001b[1;31m---------------------------------------------------------------------------\u001b[0m",
      "\u001b[1;31mOSError\u001b[0m                                   Traceback (most recent call last)",
      "\u001b[1;32m<ipython-input-36-28c588323e5f>\u001b[0m in \u001b[0;36m<module>\u001b[1;34m\u001b[0m\n\u001b[1;32m----> 1\u001b[1;33m \u001b[0mos\u001b[0m\u001b[1;33m.\u001b[0m\u001b[0mrename\u001b[0m\u001b[1;33m(\u001b[0m\u001b[1;34mr'file C:/Users/kihyu/Downloads/file.xls'\u001b[0m\u001b[1;33m,\u001b[0m \u001b[1;34mr'file C:/Users/kihyu/Downloads/kto_01/2020.xls'\u001b[0m\u001b[1;33m)\u001b[0m\u001b[1;33m\u001b[0m\u001b[1;33m\u001b[0m\u001b[0m\n\u001b[0m",
      "\u001b[1;31mOSError\u001b[0m: [WinError 123] The filename, directory name, or volume label syntax is incorrect: 'file C:/Users/kihyu/Downloads/file.xls' -> 'file C:/Users/kihyu/Downloads/kto_01/2020.xls'"
     ]
    }
   ],
   "source": [
    "os.rename(r'file C:/Users/kihyu/Downloads/file.xls', r'file C:/Users/kihyu/Downloads/kto_01/2020.xls')"
   ]
  },
  {
   "cell_type": "code",
   "execution_count": null,
   "metadata": {},
   "outputs": [],
   "source": []
  }
 ]
}